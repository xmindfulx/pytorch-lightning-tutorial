{
 "cells": [
  {
   "cell_type": "markdown",
   "id": "6842d7f3",
   "metadata": {},
   "source": [
    "## <ins> Tutorial: Linear Regression </ins>\n",
    "The goal of this notebook is to introduce pytorch lightning with a simple example. By the end of this tutorial, I'm hoping you will be comfortable with the following:\n",
    "- The basics of pytorch\n",
    "- The structure of pytorch lightning"
   ]
  },
  {
   "cell_type": "markdown",
   "id": "9e27ac36",
   "metadata": {},
   "source": [
    "## <ins> Configuration Parameters </ins>\n",
    "Every experiment needs some control parameters, so here is a basic way to initialize them and prepare them for development. "
   ]
  },
  {
   "cell_type": "code",
   "execution_count": 1,
   "id": "4cba3207",
   "metadata": {},
   "outputs": [],
   "source": [
    "# Author: MINDFUL\n",
    "# Purpose: Configuration ( Linear Regression )\n",
    "\n",
    "#--------------------------------\n",
    "# Parameters: All Paths (I / O)\n",
    "#--------------------------------\n",
    "\n",
    "path_results = \"/develop/results/linear_regression/\"\n",
    "path_dataset = \"/develop/data/regression/linear/data.csv\"\n",
    "\n",
    "#-------------------------------\n",
    "# Parameters: Training Model\n",
    "#-------------------------------\n",
    "\n",
    "# Config: Validation Rate\n",
    "\n",
    "valid_rate = 1\n",
    "\n",
    "# Config: Randomization\n",
    "\n",
    "seed = 123 \n",
    "\n",
    "# Config: CPU \n",
    "\n",
    "num_workers = 1\n",
    "\n",
    "# Config: GPU\n",
    "\n",
    "use_gpu = 0\n",
    "gpu_list = [0, 1]\n",
    "\n",
    "# Config: Gradient Descent\n",
    "\n",
    "batch_size = 16\n",
    "num_epochs = 100 \n",
    "learning_rate = 0.01\n",
    "\n",
    "# Config: Logger \n",
    "# - 0 : Tensorboard\n",
    "# - 1 : Custom Logger\n",
    "\n",
    "logger_choice = 0\n",
    "\n",
    "# Create: Parameter Container \n",
    "\n",
    "params = { \"path_results\": path_results, \"path_dataset\": path_dataset,\n",
    "           \"valid_rate\": valid_rate, \"seed\": seed, \"num_workers\": num_workers, \"use_gpu\": use_gpu, \n",
    "           \"gpu_list\": gpu_list, \"batch_size\": batch_size, \"num_epochs\": num_epochs, \"learning_rate\": learning_rate }\n"
   ]
  },
  {
   "cell_type": "markdown",
   "id": "b286bd72",
   "metadata": {},
   "source": [
    "## <ins> Verbose Warnings </ins>\n",
    "\n",
    "Pytorch lightning is notorious of its warnings. Some can be helpful during the debugging process. Others can be things like suggestions to improve performance. B/c of this, going to share how to filter them. "
   ]
  },
  {
   "cell_type": "code",
   "execution_count": 2,
   "id": "40e0f571",
   "metadata": {},
   "outputs": [],
   "source": [
    "#--------------------------------\n",
    "# Remove: Irrelevant Warnings\n",
    "#--------------------------------\n",
    "\n",
    "import warnings\n",
    "\n",
    "warnings.filterwarnings(\"ignore\")"
   ]
  },
  {
   "cell_type": "markdown",
   "id": "38af76a0",
   "metadata": {},
   "source": [
    "## <ins> Python Libraries </ins> \n",
    "\n",
    "Big strength of python is its large library support. Lets import some and discuss their importance. \n",
    "\n",
    "Standard Libraries \n",
    "\n",
    "- warnings: Controls i/o with respect to warnings\n",
    "- numpy: Linear algebra, data representation (e.g., matrices, vectors), and more\n",
    "- matplotlib: Visualizations / Plots\n",
    "\n",
    "- torch: pytorch \n",
    "- pytorch lightning: Pytorch but with more tools that support organization and simplification. \n",
    "\n",
    "Custom Libraries\n",
    "\n",
    "- Loader: Convert dataset to pytorch format\n",
    "- Logger: Experiment logging tool for results\n"
   ]
  },
  {
   "cell_type": "code",
   "execution_count": 3,
   "id": "ba7c53f9",
   "metadata": {},
   "outputs": [],
   "source": [
    "#--------------------------------\n",
    "# Import: Basic Python Libraries\n",
    "#--------------------------------\n",
    "\n",
    "import warnings\n",
    "import numpy as np\n",
    "import matplotlib.pyplot as plt\n",
    "\n",
    "#--------------------------------\n",
    "# Import: Pytorch Libraries\n",
    "#--------------------------------\n",
    "\n",
    "import torch\n",
    "import torch.nn as nn\n",
    "\n",
    "from typing import Optional\n",
    "from torch.utils.data import DataLoader\n",
    "from pytorch_lightning.plugins import DDPPlugin\n",
    "from pytorch_lightning import loggers as pl_loggers\n",
    "from pytorch_lightning import Trainer, seed_everything\n",
    "from pytorch_lightning.utilities import rank_zero_only\n",
    "from pytorch_lightning.loggers import LightningLoggerBase\n",
    "from pytorch_lightning.loggers.base import rank_zero_experiment\n",
    "from pytorch_lightning import LightningModule, LightningDataModule\n",
    "\n",
    "#--------------------------------\n",
    "# Import: Custom Python Libraries\n",
    "#--------------------------------\n",
    "\n",
    "import utils\n",
    "\n",
    "from custom_logger import Logger\n",
    "from loader import Dataset as Pytorch_Dataset\n"
   ]
  },
  {
   "cell_type": "code",
   "execution_count": 4,
   "id": "4534a7ab",
   "metadata": {},
   "outputs": [],
   "source": [
    "# Now lets prepare our dataset loader. Its just a CSV file so we can load it appropriately."
   ]
  },
  {
   "cell_type": "code",
   "execution_count": 5,
   "id": "68d7dd04",
   "metadata": {},
   "outputs": [],
   "source": [
    "#--------------------------------\n",
    "# Initialize: Custom Dataset \n",
    "#--------------------------------\n",
    "\n",
    "class Dataset:\n",
    "\n",
    "    def __init__(self, samples, labels):\n",
    "\n",
    "        self.labels = labels\n",
    "        self.samples = samples\n",
    "\n",
    "#--------------------------------\n",
    "# Load: Training Dataset (.CSV)\n",
    "#--------------------------------\n",
    "\n",
    "def load_data(path):\n",
    "\n",
    "    data_file = open(path, \"r\")\n",
    "\n",
    "    data = []\n",
    "    for line in data_file:\n",
    "        data.append([ float(ele.strip(\"\\n\")) for ele in line.split(\",\") ])\n",
    "\n",
    "    data = np.asarray(data)\n",
    "\n",
    "    samples, labels = data[:, :-1], data[:, -1]\n",
    "\n",
    "    return Dataset(samples, labels)\n"
   ]
  },
  {
   "cell_type": "code",
   "execution_count": 6,
   "id": "b0b27496",
   "metadata": {},
   "outputs": [],
   "source": [
    "# For pytorch, datasets need a specific format in order to take advantage of pytorch utitlies (e.g., dataloaders).\n",
    "# Because of this, lets make a data module that accomplishes this requirement"
   ]
  },
  {
   "cell_type": "code",
   "execution_count": 7,
   "id": "a96e1c9e",
   "metadata": {},
   "outputs": [],
   "source": [
    "#--------------------------------\n",
    "# Create: Lightning Data Module\n",
    "#--------------------------------\n",
    "\n",
    "class PLDM(LightningDataModule):\n",
    "\n",
    "    def __init__(self, params):\n",
    "        \n",
    "        super().__init__() \n",
    "                           \n",
    "        # Load: Dataset Parameters\n",
    "                           \n",
    "        self.data = params[\"train\"]\n",
    "                           \n",
    "        # Load: Processing Parameters\n",
    "\n",
    "        self.batch = params[\"batch_size\"]\n",
    "        self.workers = params[\"num_workers\"]\n",
    "        \n",
    "    #----------------------------\n",
    "    # Create: Training Datasets \n",
    "    #----------------------------\n",
    "                           \n",
    "    def setup(self, stage: Optional[str] = None):\n",
    "\n",
    "        # Create: Pytorch Datasets\n",
    "\n",
    "        self.train = Pytorch_Dataset(self.data)\n",
    "        self.valid = Pytorch_Dataset(self.data)\n",
    "\n",
    "    #----------------------------\n",
    "    # Create: Training DataLoader\n",
    "    #----------------------------\n",
    "\n",
    "    def train_dataloader(self):\n",
    "\n",
    "        return DataLoader( self.train, batch_size = self.batch,\n",
    "                           num_workers = self.workers, shuffle = 1, persistent_workers = 1 )\n",
    "\n",
    "    #----------------------------\n",
    "    # Create: Validation Loader\n",
    "    #----------------------------\n",
    "\n",
    "    def val_dataloader(self):\n",
    "\n",
    "        return DataLoader( self.valid, batch_size = self.batch,\n",
    "                           num_workers = self.workers, persistent_workers = 1 )\n"
   ]
  },
  {
   "cell_type": "code",
   "execution_count": 8,
   "id": "ec8ba1e4",
   "metadata": {},
   "outputs": [],
   "source": [
    "#--------------------------------\n",
    "# Initialize: Lightining Model\n",
    "#--------------------------------\n",
    "\n",
    "class Linear_Regression(LightningModule):\n",
    "\n",
    "    def __init__(self, params):\n",
    "\n",
    "        super().__init__()\n",
    "\n",
    "        # Load: Model Parameters\n",
    "        \n",
    "        self.max_epochs = params[\"num_epochs\"]\n",
    "        self.learning_rate = params[\"learning_rate\"]\n",
    "\n",
    "        # Initialize: Regression Model \n",
    "\n",
    "        self.regressor = nn.Linear(1, 1)\n",
    "\n",
    "    #----------------------------\n",
    "    # Create: Objective Function\n",
    "    #----------------------------\n",
    "\n",
    "    def objective(self, preds, labels):\n",
    "    \n",
    "        # Format: Labels\n",
    "\n",
    "        labels = labels.reshape(preds.size()).type(preds.type())\n",
    "\n",
    "        # Objective: Mean Squared Error\n",
    "\n",
    "        cost = nn.MSELoss() \n",
    "\n",
    "        loss = cost(preds, labels) \n",
    "\n",
    "        # Logging: Loss\n",
    "\n",
    "        self.log(\"loss\", loss, on_step = True, on_epoch = True)\n",
    "\n",
    "        return loss\n",
    "\n",
    "    #----------------------------\n",
    "    # Create: Optimizer Function\n",
    "    #----------------------------\n",
    "\n",
    "    def configure_optimizers(self):\n",
    "\n",
    "        optimizer = torch.optim.Adam(self.parameters(), lr = self.learning_rate)\n",
    "\n",
    "        return optimizer\n",
    "\n",
    "    #----------------------------\n",
    "    # Create: Model Forward Pass\n",
    "    #----------------------------\n",
    "\n",
    "    def forward(self, samples):\n",
    "\n",
    "        return self.regressor(samples)\n",
    "\n",
    "    #----------------------------\n",
    "    # Create: Train Cycle (Epoch)\n",
    "    #----------------------------\n",
    "\n",
    "    def training_step(self, batch, batch_idx):\n",
    "\n",
    "        # Load: Data Batch\n",
    "\n",
    "        samples, labels = batch\n",
    "\n",
    "        preds = self(samples)\n",
    "\n",
    "        # Calculate: Training Loss\n",
    "\n",
    "        loss = self.objective(preds, labels)\n",
    "       \n",
    "        return loss\n",
    "\n",
    "    #----------------------------\n",
    "    # Run: Post Training Script\n",
    "    #----------------------------\n",
    "\n",
    "    def training_epoch_end(self, train_step_outputs): \n",
    "\n",
    "        # Update: Training Plots\n",
    "\n",
    "        if(logger_choice == 1):\n",
    "            \n",
    "            if(self.current_epoch > 0):\n",
    "\n",
    "                logger = self.logger.experiment\n",
    "\n",
    "                logger.log_training_loss(self.current_epoch)\n",
    "\n",
    "                # Finalize: Learned Features & Metrics ( Video )\n",
    "\n",
    "                if(self.current_epoch == self.max_epochs - 1):\n",
    "\n",
    "                    logger.finalize_results()\n",
    "\n",
    "    #----------------------------\n",
    "    # Create: Validation Cycle \n",
    "    #----------------------------\n",
    "\n",
    "    def validation_step(self, batch, batch_idx):\n",
    "\n",
    "        samples, labels = batch\n",
    "\n",
    "        preds = self(samples)\n",
    "    \n",
    "        return samples, labels, preds\n",
    "\n",
    "    #----------------------------\n",
    "    # Run: Post Validation Script\n",
    "    #----------------------------\n",
    "\n",
    "    def validation_epoch_end(self, val_step_outputs): \n",
    "\n",
    "        # Organize: Validation Outputs\n",
    " \n",
    "        all_samples, all_labels, all_preds = [], [], []\n",
    "    \n",
    "        for group in val_step_outputs:\n",
    "\n",
    "            samples, labels, preds = group\n",
    "\n",
    "            all_labels.append( labels )\n",
    "            all_samples.append( samples )\n",
    "            all_preds.append( preds.detach() )\n",
    "\n",
    "        all_preds = torch.cat(all_preds)\n",
    "        all_labels = torch.cat(all_labels)\n",
    "        all_samples = torch.cat(all_samples)\n",
    "\n",
    "        # Logger: Visualizations  \n",
    "\n",
    "        \n",
    "        if(logger_choice == 0):\n",
    "        \n",
    "            self.log_linear_regression(all_samples, all_labels, all_preds, self.current_epoch)\n",
    "            \n",
    "        else:\n",
    "            \n",
    "            logger = self.logger.experiment\n",
    "            logger.log_linear_regression(all_samples, all_labels, all_preds, self.current_epoch)\n",
    "            \n",
    "    \n",
    "    #----------------------------\n",
    "    # Logging: Feature Embeddings\n",
    "    #----------------------------\n",
    "\n",
    "    def log_linear_regression(self, samples, labels, preds, epoch, z = 4, f_s = 20, p_s = (15, 11)):\n",
    "\n",
    "        # Format: Feature Vectors\n",
    "\n",
    "        preds = torch.squeeze(preds)\n",
    "        samples = torch.squeeze(samples)\n",
    "\n",
    "        # Format: Plot\n",
    "\n",
    "        plt.style.use(\"seaborn\")\n",
    "\n",
    "        # Assign: Figure Name\n",
    "\n",
    "        name = str(epoch).zfill(z) + \".png\"\n",
    "\n",
    "        # Visualize: Results\n",
    "\n",
    "        fig = plt.figure(figsize = p_s)\n",
    "\n",
    "        ax = fig.add_subplot()\n",
    "\n",
    "        ax.scatter( samples, labels, c = \"blue\")\n",
    "        ax.plot( samples, preds, c = \"red\")\n",
    "        ax.set_xlabel(\"x1\", fontsize = f_s)\n",
    "        ax.set_ylabel(\"x2\", fontsize = f_s)\n",
    "\n",
    "        fig.suptitle(\"Learned Linear Regression\", fontsize = f_s)\n",
    "\n",
    "        plt.subplots_adjust(top = 0.90)\n",
    "\n",
    "        logger = self.logger.experiment\n",
    "        logger.add_figure(name,  plt.gcf())\n"
   ]
  },
  {
   "cell_type": "code",
   "execution_count": 9,
   "id": "29ecab75",
   "metadata": {},
   "outputs": [],
   "source": [
    "# Lastly, lets create a \"Trainer\" that will train and validate our model"
   ]
  },
  {
   "cell_type": "code",
   "execution_count": 10,
   "id": "ded230cc",
   "metadata": {},
   "outputs": [
    {
     "name": "stderr",
     "output_type": "stream",
     "text": [
      "Global seed set to 123\n",
      "GPU available: False, used: False\n",
      "TPU available: False, using: 0 TPU cores\n",
      "IPU available: False, using: 0 IPUs\n",
      "\n",
      "  | Name      | Type   | Params\n",
      "-------------------------------------\n",
      "0 | regressor | Linear | 2     \n",
      "-------------------------------------\n",
      "2         Trainable params\n",
      "0         Non-trainable params\n",
      "2         Total params\n",
      "0.000     Total estimated model params size (MB)\n"
     ]
    },
    {
     "data": {
      "application/vnd.jupyter.widget-view+json": {
       "model_id": "a12881aca1a14f56897651cab95d9802",
       "version_major": 2,
       "version_minor": 0
      },
      "text/plain": [
       "Training: -1it [00:00, ?it/s]"
      ]
     },
     "metadata": {},
     "output_type": "display_data"
    },
    {
     "data": {
      "application/vnd.jupyter.widget-view+json": {
       "model_id": "",
       "version_major": 2,
       "version_minor": 0
      },
      "text/plain": [
       "Validating: 0it [00:00, ?it/s]"
      ]
     },
     "metadata": {},
     "output_type": "display_data"
    },
    {
     "data": {
      "application/vnd.jupyter.widget-view+json": {
       "model_id": "",
       "version_major": 2,
       "version_minor": 0
      },
      "text/plain": [
       "Validating: 0it [00:00, ?it/s]"
      ]
     },
     "metadata": {},
     "output_type": "display_data"
    },
    {
     "data": {
      "application/vnd.jupyter.widget-view+json": {
       "model_id": "",
       "version_major": 2,
       "version_minor": 0
      },
      "text/plain": [
       "Validating: 0it [00:00, ?it/s]"
      ]
     },
     "metadata": {},
     "output_type": "display_data"
    },
    {
     "data": {
      "application/vnd.jupyter.widget-view+json": {
       "model_id": "",
       "version_major": 2,
       "version_minor": 0
      },
      "text/plain": [
       "Validating: 0it [00:00, ?it/s]"
      ]
     },
     "metadata": {},
     "output_type": "display_data"
    },
    {
     "data": {
      "application/vnd.jupyter.widget-view+json": {
       "model_id": "",
       "version_major": 2,
       "version_minor": 0
      },
      "text/plain": [
       "Validating: 0it [00:00, ?it/s]"
      ]
     },
     "metadata": {},
     "output_type": "display_data"
    },
    {
     "data": {
      "application/vnd.jupyter.widget-view+json": {
       "model_id": "",
       "version_major": 2,
       "version_minor": 0
      },
      "text/plain": [
       "Validating: 0it [00:00, ?it/s]"
      ]
     },
     "metadata": {},
     "output_type": "display_data"
    },
    {
     "data": {
      "application/vnd.jupyter.widget-view+json": {
       "model_id": "",
       "version_major": 2,
       "version_minor": 0
      },
      "text/plain": [
       "Validating: 0it [00:00, ?it/s]"
      ]
     },
     "metadata": {},
     "output_type": "display_data"
    },
    {
     "data": {
      "application/vnd.jupyter.widget-view+json": {
       "model_id": "",
       "version_major": 2,
       "version_minor": 0
      },
      "text/plain": [
       "Validating: 0it [00:00, ?it/s]"
      ]
     },
     "metadata": {},
     "output_type": "display_data"
    },
    {
     "data": {
      "application/vnd.jupyter.widget-view+json": {
       "model_id": "",
       "version_major": 2,
       "version_minor": 0
      },
      "text/plain": [
       "Validating: 0it [00:00, ?it/s]"
      ]
     },
     "metadata": {},
     "output_type": "display_data"
    },
    {
     "data": {
      "application/vnd.jupyter.widget-view+json": {
       "model_id": "",
       "version_major": 2,
       "version_minor": 0
      },
      "text/plain": [
       "Validating: 0it [00:00, ?it/s]"
      ]
     },
     "metadata": {},
     "output_type": "display_data"
    },
    {
     "data": {
      "application/vnd.jupyter.widget-view+json": {
       "model_id": "",
       "version_major": 2,
       "version_minor": 0
      },
      "text/plain": [
       "Validating: 0it [00:00, ?it/s]"
      ]
     },
     "metadata": {},
     "output_type": "display_data"
    },
    {
     "data": {
      "application/vnd.jupyter.widget-view+json": {
       "model_id": "",
       "version_major": 2,
       "version_minor": 0
      },
      "text/plain": [
       "Validating: 0it [00:00, ?it/s]"
      ]
     },
     "metadata": {},
     "output_type": "display_data"
    },
    {
     "data": {
      "application/vnd.jupyter.widget-view+json": {
       "model_id": "",
       "version_major": 2,
       "version_minor": 0
      },
      "text/plain": [
       "Validating: 0it [00:00, ?it/s]"
      ]
     },
     "metadata": {},
     "output_type": "display_data"
    },
    {
     "data": {
      "application/vnd.jupyter.widget-view+json": {
       "model_id": "",
       "version_major": 2,
       "version_minor": 0
      },
      "text/plain": [
       "Validating: 0it [00:00, ?it/s]"
      ]
     },
     "metadata": {},
     "output_type": "display_data"
    },
    {
     "data": {
      "application/vnd.jupyter.widget-view+json": {
       "model_id": "",
       "version_major": 2,
       "version_minor": 0
      },
      "text/plain": [
       "Validating: 0it [00:00, ?it/s]"
      ]
     },
     "metadata": {},
     "output_type": "display_data"
    },
    {
     "data": {
      "application/vnd.jupyter.widget-view+json": {
       "model_id": "",
       "version_major": 2,
       "version_minor": 0
      },
      "text/plain": [
       "Validating: 0it [00:00, ?it/s]"
      ]
     },
     "metadata": {},
     "output_type": "display_data"
    },
    {
     "data": {
      "application/vnd.jupyter.widget-view+json": {
       "model_id": "",
       "version_major": 2,
       "version_minor": 0
      },
      "text/plain": [
       "Validating: 0it [00:00, ?it/s]"
      ]
     },
     "metadata": {},
     "output_type": "display_data"
    },
    {
     "data": {
      "application/vnd.jupyter.widget-view+json": {
       "model_id": "",
       "version_major": 2,
       "version_minor": 0
      },
      "text/plain": [
       "Validating: 0it [00:00, ?it/s]"
      ]
     },
     "metadata": {},
     "output_type": "display_data"
    },
    {
     "data": {
      "application/vnd.jupyter.widget-view+json": {
       "model_id": "",
       "version_major": 2,
       "version_minor": 0
      },
      "text/plain": [
       "Validating: 0it [00:00, ?it/s]"
      ]
     },
     "metadata": {},
     "output_type": "display_data"
    },
    {
     "data": {
      "application/vnd.jupyter.widget-view+json": {
       "model_id": "",
       "version_major": 2,
       "version_minor": 0
      },
      "text/plain": [
       "Validating: 0it [00:00, ?it/s]"
      ]
     },
     "metadata": {},
     "output_type": "display_data"
    },
    {
     "data": {
      "application/vnd.jupyter.widget-view+json": {
       "model_id": "",
       "version_major": 2,
       "version_minor": 0
      },
      "text/plain": [
       "Validating: 0it [00:00, ?it/s]"
      ]
     },
     "metadata": {},
     "output_type": "display_data"
    },
    {
     "data": {
      "application/vnd.jupyter.widget-view+json": {
       "model_id": "",
       "version_major": 2,
       "version_minor": 0
      },
      "text/plain": [
       "Validating: 0it [00:00, ?it/s]"
      ]
     },
     "metadata": {},
     "output_type": "display_data"
    },
    {
     "data": {
      "application/vnd.jupyter.widget-view+json": {
       "model_id": "",
       "version_major": 2,
       "version_minor": 0
      },
      "text/plain": [
       "Validating: 0it [00:00, ?it/s]"
      ]
     },
     "metadata": {},
     "output_type": "display_data"
    },
    {
     "data": {
      "application/vnd.jupyter.widget-view+json": {
       "model_id": "",
       "version_major": 2,
       "version_minor": 0
      },
      "text/plain": [
       "Validating: 0it [00:00, ?it/s]"
      ]
     },
     "metadata": {},
     "output_type": "display_data"
    },
    {
     "data": {
      "application/vnd.jupyter.widget-view+json": {
       "model_id": "",
       "version_major": 2,
       "version_minor": 0
      },
      "text/plain": [
       "Validating: 0it [00:00, ?it/s]"
      ]
     },
     "metadata": {},
     "output_type": "display_data"
    },
    {
     "data": {
      "application/vnd.jupyter.widget-view+json": {
       "model_id": "",
       "version_major": 2,
       "version_minor": 0
      },
      "text/plain": [
       "Validating: 0it [00:00, ?it/s]"
      ]
     },
     "metadata": {},
     "output_type": "display_data"
    },
    {
     "data": {
      "application/vnd.jupyter.widget-view+json": {
       "model_id": "",
       "version_major": 2,
       "version_minor": 0
      },
      "text/plain": [
       "Validating: 0it [00:00, ?it/s]"
      ]
     },
     "metadata": {},
     "output_type": "display_data"
    },
    {
     "data": {
      "application/vnd.jupyter.widget-view+json": {
       "model_id": "",
       "version_major": 2,
       "version_minor": 0
      },
      "text/plain": [
       "Validating: 0it [00:00, ?it/s]"
      ]
     },
     "metadata": {},
     "output_type": "display_data"
    },
    {
     "data": {
      "application/vnd.jupyter.widget-view+json": {
       "model_id": "",
       "version_major": 2,
       "version_minor": 0
      },
      "text/plain": [
       "Validating: 0it [00:00, ?it/s]"
      ]
     },
     "metadata": {},
     "output_type": "display_data"
    },
    {
     "data": {
      "application/vnd.jupyter.widget-view+json": {
       "model_id": "",
       "version_major": 2,
       "version_minor": 0
      },
      "text/plain": [
       "Validating: 0it [00:00, ?it/s]"
      ]
     },
     "metadata": {},
     "output_type": "display_data"
    },
    {
     "data": {
      "application/vnd.jupyter.widget-view+json": {
       "model_id": "",
       "version_major": 2,
       "version_minor": 0
      },
      "text/plain": [
       "Validating: 0it [00:00, ?it/s]"
      ]
     },
     "metadata": {},
     "output_type": "display_data"
    },
    {
     "data": {
      "application/vnd.jupyter.widget-view+json": {
       "model_id": "",
       "version_major": 2,
       "version_minor": 0
      },
      "text/plain": [
       "Validating: 0it [00:00, ?it/s]"
      ]
     },
     "metadata": {},
     "output_type": "display_data"
    },
    {
     "data": {
      "application/vnd.jupyter.widget-view+json": {
       "model_id": "",
       "version_major": 2,
       "version_minor": 0
      },
      "text/plain": [
       "Validating: 0it [00:00, ?it/s]"
      ]
     },
     "metadata": {},
     "output_type": "display_data"
    },
    {
     "data": {
      "application/vnd.jupyter.widget-view+json": {
       "model_id": "",
       "version_major": 2,
       "version_minor": 0
      },
      "text/plain": [
       "Validating: 0it [00:00, ?it/s]"
      ]
     },
     "metadata": {},
     "output_type": "display_data"
    },
    {
     "data": {
      "application/vnd.jupyter.widget-view+json": {
       "model_id": "",
       "version_major": 2,
       "version_minor": 0
      },
      "text/plain": [
       "Validating: 0it [00:00, ?it/s]"
      ]
     },
     "metadata": {},
     "output_type": "display_data"
    },
    {
     "data": {
      "application/vnd.jupyter.widget-view+json": {
       "model_id": "",
       "version_major": 2,
       "version_minor": 0
      },
      "text/plain": [
       "Validating: 0it [00:00, ?it/s]"
      ]
     },
     "metadata": {},
     "output_type": "display_data"
    },
    {
     "data": {
      "application/vnd.jupyter.widget-view+json": {
       "model_id": "",
       "version_major": 2,
       "version_minor": 0
      },
      "text/plain": [
       "Validating: 0it [00:00, ?it/s]"
      ]
     },
     "metadata": {},
     "output_type": "display_data"
    },
    {
     "data": {
      "application/vnd.jupyter.widget-view+json": {
       "model_id": "",
       "version_major": 2,
       "version_minor": 0
      },
      "text/plain": [
       "Validating: 0it [00:00, ?it/s]"
      ]
     },
     "metadata": {},
     "output_type": "display_data"
    },
    {
     "data": {
      "application/vnd.jupyter.widget-view+json": {
       "model_id": "",
       "version_major": 2,
       "version_minor": 0
      },
      "text/plain": [
       "Validating: 0it [00:00, ?it/s]"
      ]
     },
     "metadata": {},
     "output_type": "display_data"
    },
    {
     "data": {
      "application/vnd.jupyter.widget-view+json": {
       "model_id": "",
       "version_major": 2,
       "version_minor": 0
      },
      "text/plain": [
       "Validating: 0it [00:00, ?it/s]"
      ]
     },
     "metadata": {},
     "output_type": "display_data"
    },
    {
     "data": {
      "application/vnd.jupyter.widget-view+json": {
       "model_id": "",
       "version_major": 2,
       "version_minor": 0
      },
      "text/plain": [
       "Validating: 0it [00:00, ?it/s]"
      ]
     },
     "metadata": {},
     "output_type": "display_data"
    },
    {
     "data": {
      "application/vnd.jupyter.widget-view+json": {
       "model_id": "",
       "version_major": 2,
       "version_minor": 0
      },
      "text/plain": [
       "Validating: 0it [00:00, ?it/s]"
      ]
     },
     "metadata": {},
     "output_type": "display_data"
    },
    {
     "data": {
      "application/vnd.jupyter.widget-view+json": {
       "model_id": "",
       "version_major": 2,
       "version_minor": 0
      },
      "text/plain": [
       "Validating: 0it [00:00, ?it/s]"
      ]
     },
     "metadata": {},
     "output_type": "display_data"
    },
    {
     "data": {
      "application/vnd.jupyter.widget-view+json": {
       "model_id": "",
       "version_major": 2,
       "version_minor": 0
      },
      "text/plain": [
       "Validating: 0it [00:00, ?it/s]"
      ]
     },
     "metadata": {},
     "output_type": "display_data"
    },
    {
     "data": {
      "application/vnd.jupyter.widget-view+json": {
       "model_id": "",
       "version_major": 2,
       "version_minor": 0
      },
      "text/plain": [
       "Validating: 0it [00:00, ?it/s]"
      ]
     },
     "metadata": {},
     "output_type": "display_data"
    },
    {
     "data": {
      "application/vnd.jupyter.widget-view+json": {
       "model_id": "",
       "version_major": 2,
       "version_minor": 0
      },
      "text/plain": [
       "Validating: 0it [00:00, ?it/s]"
      ]
     },
     "metadata": {},
     "output_type": "display_data"
    },
    {
     "data": {
      "application/vnd.jupyter.widget-view+json": {
       "model_id": "",
       "version_major": 2,
       "version_minor": 0
      },
      "text/plain": [
       "Validating: 0it [00:00, ?it/s]"
      ]
     },
     "metadata": {},
     "output_type": "display_data"
    },
    {
     "data": {
      "application/vnd.jupyter.widget-view+json": {
       "model_id": "",
       "version_major": 2,
       "version_minor": 0
      },
      "text/plain": [
       "Validating: 0it [00:00, ?it/s]"
      ]
     },
     "metadata": {},
     "output_type": "display_data"
    },
    {
     "data": {
      "application/vnd.jupyter.widget-view+json": {
       "model_id": "",
       "version_major": 2,
       "version_minor": 0
      },
      "text/plain": [
       "Validating: 0it [00:00, ?it/s]"
      ]
     },
     "metadata": {},
     "output_type": "display_data"
    },
    {
     "data": {
      "application/vnd.jupyter.widget-view+json": {
       "model_id": "",
       "version_major": 2,
       "version_minor": 0
      },
      "text/plain": [
       "Validating: 0it [00:00, ?it/s]"
      ]
     },
     "metadata": {},
     "output_type": "display_data"
    },
    {
     "data": {
      "application/vnd.jupyter.widget-view+json": {
       "model_id": "",
       "version_major": 2,
       "version_minor": 0
      },
      "text/plain": [
       "Validating: 0it [00:00, ?it/s]"
      ]
     },
     "metadata": {},
     "output_type": "display_data"
    },
    {
     "data": {
      "application/vnd.jupyter.widget-view+json": {
       "model_id": "",
       "version_major": 2,
       "version_minor": 0
      },
      "text/plain": [
       "Validating: 0it [00:00, ?it/s]"
      ]
     },
     "metadata": {},
     "output_type": "display_data"
    },
    {
     "data": {
      "application/vnd.jupyter.widget-view+json": {
       "model_id": "",
       "version_major": 2,
       "version_minor": 0
      },
      "text/plain": [
       "Validating: 0it [00:00, ?it/s]"
      ]
     },
     "metadata": {},
     "output_type": "display_data"
    },
    {
     "data": {
      "application/vnd.jupyter.widget-view+json": {
       "model_id": "",
       "version_major": 2,
       "version_minor": 0
      },
      "text/plain": [
       "Validating: 0it [00:00, ?it/s]"
      ]
     },
     "metadata": {},
     "output_type": "display_data"
    },
    {
     "data": {
      "application/vnd.jupyter.widget-view+json": {
       "model_id": "",
       "version_major": 2,
       "version_minor": 0
      },
      "text/plain": [
       "Validating: 0it [00:00, ?it/s]"
      ]
     },
     "metadata": {},
     "output_type": "display_data"
    },
    {
     "data": {
      "application/vnd.jupyter.widget-view+json": {
       "model_id": "",
       "version_major": 2,
       "version_minor": 0
      },
      "text/plain": [
       "Validating: 0it [00:00, ?it/s]"
      ]
     },
     "metadata": {},
     "output_type": "display_data"
    },
    {
     "data": {
      "application/vnd.jupyter.widget-view+json": {
       "model_id": "",
       "version_major": 2,
       "version_minor": 0
      },
      "text/plain": [
       "Validating: 0it [00:00, ?it/s]"
      ]
     },
     "metadata": {},
     "output_type": "display_data"
    },
    {
     "data": {
      "application/vnd.jupyter.widget-view+json": {
       "model_id": "",
       "version_major": 2,
       "version_minor": 0
      },
      "text/plain": [
       "Validating: 0it [00:00, ?it/s]"
      ]
     },
     "metadata": {},
     "output_type": "display_data"
    },
    {
     "data": {
      "application/vnd.jupyter.widget-view+json": {
       "model_id": "",
       "version_major": 2,
       "version_minor": 0
      },
      "text/plain": [
       "Validating: 0it [00:00, ?it/s]"
      ]
     },
     "metadata": {},
     "output_type": "display_data"
    },
    {
     "data": {
      "application/vnd.jupyter.widget-view+json": {
       "model_id": "",
       "version_major": 2,
       "version_minor": 0
      },
      "text/plain": [
       "Validating: 0it [00:00, ?it/s]"
      ]
     },
     "metadata": {},
     "output_type": "display_data"
    },
    {
     "data": {
      "application/vnd.jupyter.widget-view+json": {
       "model_id": "",
       "version_major": 2,
       "version_minor": 0
      },
      "text/plain": [
       "Validating: 0it [00:00, ?it/s]"
      ]
     },
     "metadata": {},
     "output_type": "display_data"
    },
    {
     "data": {
      "application/vnd.jupyter.widget-view+json": {
       "model_id": "",
       "version_major": 2,
       "version_minor": 0
      },
      "text/plain": [
       "Validating: 0it [00:00, ?it/s]"
      ]
     },
     "metadata": {},
     "output_type": "display_data"
    },
    {
     "data": {
      "application/vnd.jupyter.widget-view+json": {
       "model_id": "",
       "version_major": 2,
       "version_minor": 0
      },
      "text/plain": [
       "Validating: 0it [00:00, ?it/s]"
      ]
     },
     "metadata": {},
     "output_type": "display_data"
    },
    {
     "data": {
      "application/vnd.jupyter.widget-view+json": {
       "model_id": "",
       "version_major": 2,
       "version_minor": 0
      },
      "text/plain": [
       "Validating: 0it [00:00, ?it/s]"
      ]
     },
     "metadata": {},
     "output_type": "display_data"
    },
    {
     "data": {
      "application/vnd.jupyter.widget-view+json": {
       "model_id": "",
       "version_major": 2,
       "version_minor": 0
      },
      "text/plain": [
       "Validating: 0it [00:00, ?it/s]"
      ]
     },
     "metadata": {},
     "output_type": "display_data"
    },
    {
     "data": {
      "application/vnd.jupyter.widget-view+json": {
       "model_id": "",
       "version_major": 2,
       "version_minor": 0
      },
      "text/plain": [
       "Validating: 0it [00:00, ?it/s]"
      ]
     },
     "metadata": {},
     "output_type": "display_data"
    },
    {
     "data": {
      "application/vnd.jupyter.widget-view+json": {
       "model_id": "",
       "version_major": 2,
       "version_minor": 0
      },
      "text/plain": [
       "Validating: 0it [00:00, ?it/s]"
      ]
     },
     "metadata": {},
     "output_type": "display_data"
    },
    {
     "data": {
      "application/vnd.jupyter.widget-view+json": {
       "model_id": "",
       "version_major": 2,
       "version_minor": 0
      },
      "text/plain": [
       "Validating: 0it [00:00, ?it/s]"
      ]
     },
     "metadata": {},
     "output_type": "display_data"
    },
    {
     "data": {
      "application/vnd.jupyter.widget-view+json": {
       "model_id": "",
       "version_major": 2,
       "version_minor": 0
      },
      "text/plain": [
       "Validating: 0it [00:00, ?it/s]"
      ]
     },
     "metadata": {},
     "output_type": "display_data"
    },
    {
     "data": {
      "application/vnd.jupyter.widget-view+json": {
       "model_id": "",
       "version_major": 2,
       "version_minor": 0
      },
      "text/plain": [
       "Validating: 0it [00:00, ?it/s]"
      ]
     },
     "metadata": {},
     "output_type": "display_data"
    },
    {
     "data": {
      "application/vnd.jupyter.widget-view+json": {
       "model_id": "",
       "version_major": 2,
       "version_minor": 0
      },
      "text/plain": [
       "Validating: 0it [00:00, ?it/s]"
      ]
     },
     "metadata": {},
     "output_type": "display_data"
    },
    {
     "data": {
      "application/vnd.jupyter.widget-view+json": {
       "model_id": "",
       "version_major": 2,
       "version_minor": 0
      },
      "text/plain": [
       "Validating: 0it [00:00, ?it/s]"
      ]
     },
     "metadata": {},
     "output_type": "display_data"
    },
    {
     "data": {
      "application/vnd.jupyter.widget-view+json": {
       "model_id": "",
       "version_major": 2,
       "version_minor": 0
      },
      "text/plain": [
       "Validating: 0it [00:00, ?it/s]"
      ]
     },
     "metadata": {},
     "output_type": "display_data"
    },
    {
     "data": {
      "application/vnd.jupyter.widget-view+json": {
       "model_id": "",
       "version_major": 2,
       "version_minor": 0
      },
      "text/plain": [
       "Validating: 0it [00:00, ?it/s]"
      ]
     },
     "metadata": {},
     "output_type": "display_data"
    },
    {
     "data": {
      "application/vnd.jupyter.widget-view+json": {
       "model_id": "",
       "version_major": 2,
       "version_minor": 0
      },
      "text/plain": [
       "Validating: 0it [00:00, ?it/s]"
      ]
     },
     "metadata": {},
     "output_type": "display_data"
    },
    {
     "data": {
      "application/vnd.jupyter.widget-view+json": {
       "model_id": "",
       "version_major": 2,
       "version_minor": 0
      },
      "text/plain": [
       "Validating: 0it [00:00, ?it/s]"
      ]
     },
     "metadata": {},
     "output_type": "display_data"
    },
    {
     "data": {
      "application/vnd.jupyter.widget-view+json": {
       "model_id": "",
       "version_major": 2,
       "version_minor": 0
      },
      "text/plain": [
       "Validating: 0it [00:00, ?it/s]"
      ]
     },
     "metadata": {},
     "output_type": "display_data"
    },
    {
     "data": {
      "application/vnd.jupyter.widget-view+json": {
       "model_id": "",
       "version_major": 2,
       "version_minor": 0
      },
      "text/plain": [
       "Validating: 0it [00:00, ?it/s]"
      ]
     },
     "metadata": {},
     "output_type": "display_data"
    },
    {
     "data": {
      "application/vnd.jupyter.widget-view+json": {
       "model_id": "",
       "version_major": 2,
       "version_minor": 0
      },
      "text/plain": [
       "Validating: 0it [00:00, ?it/s]"
      ]
     },
     "metadata": {},
     "output_type": "display_data"
    },
    {
     "data": {
      "application/vnd.jupyter.widget-view+json": {
       "model_id": "",
       "version_major": 2,
       "version_minor": 0
      },
      "text/plain": [
       "Validating: 0it [00:00, ?it/s]"
      ]
     },
     "metadata": {},
     "output_type": "display_data"
    },
    {
     "data": {
      "application/vnd.jupyter.widget-view+json": {
       "model_id": "",
       "version_major": 2,
       "version_minor": 0
      },
      "text/plain": [
       "Validating: 0it [00:00, ?it/s]"
      ]
     },
     "metadata": {},
     "output_type": "display_data"
    },
    {
     "data": {
      "application/vnd.jupyter.widget-view+json": {
       "model_id": "",
       "version_major": 2,
       "version_minor": 0
      },
      "text/plain": [
       "Validating: 0it [00:00, ?it/s]"
      ]
     },
     "metadata": {},
     "output_type": "display_data"
    },
    {
     "data": {
      "application/vnd.jupyter.widget-view+json": {
       "model_id": "",
       "version_major": 2,
       "version_minor": 0
      },
      "text/plain": [
       "Validating: 0it [00:00, ?it/s]"
      ]
     },
     "metadata": {},
     "output_type": "display_data"
    },
    {
     "data": {
      "application/vnd.jupyter.widget-view+json": {
       "model_id": "",
       "version_major": 2,
       "version_minor": 0
      },
      "text/plain": [
       "Validating: 0it [00:00, ?it/s]"
      ]
     },
     "metadata": {},
     "output_type": "display_data"
    },
    {
     "data": {
      "application/vnd.jupyter.widget-view+json": {
       "model_id": "",
       "version_major": 2,
       "version_minor": 0
      },
      "text/plain": [
       "Validating: 0it [00:00, ?it/s]"
      ]
     },
     "metadata": {},
     "output_type": "display_data"
    },
    {
     "data": {
      "application/vnd.jupyter.widget-view+json": {
       "model_id": "",
       "version_major": 2,
       "version_minor": 0
      },
      "text/plain": [
       "Validating: 0it [00:00, ?it/s]"
      ]
     },
     "metadata": {},
     "output_type": "display_data"
    },
    {
     "data": {
      "application/vnd.jupyter.widget-view+json": {
       "model_id": "",
       "version_major": 2,
       "version_minor": 0
      },
      "text/plain": [
       "Validating: 0it [00:00, ?it/s]"
      ]
     },
     "metadata": {},
     "output_type": "display_data"
    },
    {
     "data": {
      "application/vnd.jupyter.widget-view+json": {
       "model_id": "",
       "version_major": 2,
       "version_minor": 0
      },
      "text/plain": [
       "Validating: 0it [00:00, ?it/s]"
      ]
     },
     "metadata": {},
     "output_type": "display_data"
    },
    {
     "data": {
      "application/vnd.jupyter.widget-view+json": {
       "model_id": "",
       "version_major": 2,
       "version_minor": 0
      },
      "text/plain": [
       "Validating: 0it [00:00, ?it/s]"
      ]
     },
     "metadata": {},
     "output_type": "display_data"
    },
    {
     "data": {
      "application/vnd.jupyter.widget-view+json": {
       "model_id": "",
       "version_major": 2,
       "version_minor": 0
      },
      "text/plain": [
       "Validating: 0it [00:00, ?it/s]"
      ]
     },
     "metadata": {},
     "output_type": "display_data"
    },
    {
     "data": {
      "application/vnd.jupyter.widget-view+json": {
       "model_id": "",
       "version_major": 2,
       "version_minor": 0
      },
      "text/plain": [
       "Validating: 0it [00:00, ?it/s]"
      ]
     },
     "metadata": {},
     "output_type": "display_data"
    },
    {
     "data": {
      "application/vnd.jupyter.widget-view+json": {
       "model_id": "",
       "version_major": 2,
       "version_minor": 0
      },
      "text/plain": [
       "Validating: 0it [00:00, ?it/s]"
      ]
     },
     "metadata": {},
     "output_type": "display_data"
    },
    {
     "data": {
      "application/vnd.jupyter.widget-view+json": {
       "model_id": "",
       "version_major": 2,
       "version_minor": 0
      },
      "text/plain": [
       "Validating: 0it [00:00, ?it/s]"
      ]
     },
     "metadata": {},
     "output_type": "display_data"
    },
    {
     "data": {
      "application/vnd.jupyter.widget-view+json": {
       "model_id": "",
       "version_major": 2,
       "version_minor": 0
      },
      "text/plain": [
       "Validating: 0it [00:00, ?it/s]"
      ]
     },
     "metadata": {},
     "output_type": "display_data"
    },
    {
     "data": {
      "application/vnd.jupyter.widget-view+json": {
       "model_id": "",
       "version_major": 2,
       "version_minor": 0
      },
      "text/plain": [
       "Validating: 0it [00:00, ?it/s]"
      ]
     },
     "metadata": {},
     "output_type": "display_data"
    },
    {
     "data": {
      "application/vnd.jupyter.widget-view+json": {
       "model_id": "",
       "version_major": 2,
       "version_minor": 0
      },
      "text/plain": [
       "Validating: 0it [00:00, ?it/s]"
      ]
     },
     "metadata": {},
     "output_type": "display_data"
    },
    {
     "data": {
      "application/vnd.jupyter.widget-view+json": {
       "model_id": "",
       "version_major": 2,
       "version_minor": 0
      },
      "text/plain": [
       "Validating: 0it [00:00, ?it/s]"
      ]
     },
     "metadata": {},
     "output_type": "display_data"
    },
    {
     "data": {
      "application/vnd.jupyter.widget-view+json": {
       "model_id": "",
       "version_major": 2,
       "version_minor": 0
      },
      "text/plain": [
       "Validating: 0it [00:00, ?it/s]"
      ]
     },
     "metadata": {},
     "output_type": "display_data"
    },
    {
     "data": {
      "application/vnd.jupyter.widget-view+json": {
       "model_id": "",
       "version_major": 2,
       "version_minor": 0
      },
      "text/plain": [
       "Validating: 0it [00:00, ?it/s]"
      ]
     },
     "metadata": {},
     "output_type": "display_data"
    },
    {
     "data": {
      "application/vnd.jupyter.widget-view+json": {
       "model_id": "",
       "version_major": 2,
       "version_minor": 0
      },
      "text/plain": [
       "Validating: 0it [00:00, ?it/s]"
      ]
     },
     "metadata": {},
     "output_type": "display_data"
    }
   ],
   "source": [
    "# Initialize: Gloabl Seed\n",
    "\n",
    "seed_everything(seed, workers = True)\n",
    "\n",
    "# Generate: Synthetic Dataset\n",
    "     \n",
    "dataset = load_data(path_dataset)\n",
    "        \n",
    "params[\"train\"] = dataset\n",
    "    \n",
    "# Initialize: Formatter\n",
    "\n",
    "dataset = PLDM(params)\n",
    "\n",
    "# Initialize: Model\n",
    "\n",
    "model = Linear_Regression(params)\n",
    "\n",
    "# Initialize: Logger \n",
    "\n",
    "if(logger_choice == 0):\n",
    "    logger = pl_loggers.TensorBoardLogger(path_results, name = \"\", version = 0)\n",
    "else:\n",
    "    logger = Logger(path_results, name = \"\", version = 0)\n",
    "    \n",
    "# Train: Model\n",
    "\n",
    "if(use_gpu):\n",
    "\n",
    "    # Initialize: GPU Trainer\n",
    "\n",
    "    trainer = Trainer( logger = logger,\n",
    "                       deterministic = True,\n",
    "                       default_root_dir = path_results,\n",
    "                       check_val_every_n_epoch = valid_rate,\n",
    "                       max_epochs = num_epochs, num_nodes = 1,\n",
    "                       num_sanity_val_steps = 0, gpus = gpu_list,\n",
    "                       plugins = DDPPlugin(find_unused_parameters=False, ) )\n",
    "else:\n",
    "\n",
    "    # Initialize: CPU Trainer\n",
    "\n",
    "    trainer = Trainer( logger = logger,\n",
    "                       deterministic = True,\n",
    "                       max_epochs = num_epochs,\n",
    "                       num_sanity_val_steps = 0,\n",
    "                       default_root_dir = path_results,\n",
    "                       check_val_every_n_epoch = valid_rate )\n",
    "\n",
    "trainer.fit(model, dataset)\n"
   ]
  }
 ],
 "metadata": {
  "kernelspec": {
   "display_name": "Python 3 (ipykernel)",
   "language": "python",
   "name": "python3"
  },
  "language_info": {
   "codemirror_mode": {
    "name": "ipython",
    "version": 3
   },
   "file_extension": ".py",
   "mimetype": "text/x-python",
   "name": "python",
   "nbconvert_exporter": "python",
   "pygments_lexer": "ipython3",
   "version": "3.9.5"
  }
 },
 "nbformat": 4,
 "nbformat_minor": 5
}
